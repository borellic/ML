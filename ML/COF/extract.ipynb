{
 "cells": [
  {
   "cell_type": "code",
   "execution_count": null,
   "id": "9c6a0055",
   "metadata": {},
   "outputs": [],
   "source": [
    "import os\n",
    "import pandas as pd\n",
    "from pymatgen.core import Structure\n",
    "from pyzeo import get_accessible_surface_area, get_largest_cavity_diameter"
   ]
  },
  {
   "cell_type": "code",
   "execution_count": null,
   "id": "a3eadd99",
   "metadata": {},
   "outputs": [],
   "source": [
    "pasta_cifs = \"cofs/\"\n",
    "arquivos_cif = [f for f in os.listdir(pasta_cifs) if f.endswith(\".cif\")]"
   ]
  },
  {
   "cell_type": "code",
   "execution_count": null,
   "id": "428041e4",
   "metadata": {},
   "outputs": [],
   "source": [
    "dados = []\n",
    "\n",
    "for nome_arquivo in arquivos_cif:\n",
    "    caminho = os.path.join(pasta_cifs, nome_arquivo)\n",
    "\n",
    "    try:\n",
    "        # Carrega estrutura com pymatgen\n",
    "        estrutura = Structure.from_file(caminho)\n",
    "\n",
    "        # Densidade (g/cm³) e fórmula\n",
    "        densidade = estrutura.density\n",
    "        formula = estrutura.composition.reduced_formula\n",
    "        volume = estrutura.lattice.volume\n",
    "\n",
    "        # Usa pyzeo para calcular metadados de porosidade\n",
    "        lcd = get_largest_cavity_diameter(caminho)  # Largest cavity diameter (Å)\n",
    "        asa = get_accessible_surface_area(caminho)  # Área superficial acessível (m²/g)\n",
    "\n",
    "        # Armazena resultados\n",
    "        dados.append({\n",
    "            \"Arquivo\": nome_arquivo,\n",
    "            \"Fórmula\": formula,\n",
    "            \"Densidade (g/cm³)\": round(densidade, 4),\n",
    "            \"Volume da célula (Å³)\": round(volume, 2),\n",
    "            \"LCD (Å)\": round(lcd, 2) if lcd else None,\n",
    "            \"Área Superficial (m²/g)\": round(asa, 2) if asa else None,\n",
    "        })\n",
    "\n",
    "    except Exception as e:\n",
    "        print(f\"Erro no arquivo {nome_arquivo}: {e}\")\n",
    "\n",
    "# Exporta para CSV\n",
    "df = pd.DataFrame(dados)\n",
    "df.to_csv(\"resultados_cofs.csv\", index=False)\n",
    "\n",
    "print(\"✔ Resultados salvos em resultados_cofs.csv\")"
   ]
  }
 ],
 "metadata": {
  "language_info": {
   "name": "python"
  }
 },
 "nbformat": 4,
 "nbformat_minor": 5
}
